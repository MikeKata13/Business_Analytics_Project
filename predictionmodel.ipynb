{
 "cells": [
  {
   "cell_type": "code",
   "execution_count": null,
   "metadata": {},
   "outputs": [],
   "source": [
    "   # Check if 'starttime' column exists in the filtered data\n",
    "    if 'starttime' in data:\n",
    "        # Convert 'starttime' to datetime\n",
    "        data['starttime'] = pd.to_datetime(data['starttime'])\n",
    "\n",
    "        # Set 'starttime' as the index\n",
    "        data.set_index('starttime', inplace=True)\n",
    "\n",
    "        # Group by 'cluster_start', resample to 15-minute intervals, and calculate count and mean\n",
    "        aggregated_data_start = data.groupby([pd.Grouper(freq='15T')]).agg({'cluster_start': 'count', 'tripduration': 'mean'}).reset_index()\n",
    "\n",
    "        # Rename the columns for clarity\n",
    "        aggregated_data_start = aggregated_data_start.rename(columns={'cluster_start': 'pickup_count', 'tripduration': 'average_tripduration'})\n",
    "\n",
    "        # Store the aggregated data for the current cluster in the dictionary\n",
    "        cluster_data_frames_start[cluster_id] = aggregated_data_start"
   ]
  },
  {
   "cell_type": "code",
   "execution_count": null,
   "metadata": {},
   "outputs": [],
   "source": [
    "# As we won't test any hyperparameters for the linear regression, we will concatenate the training and validation set:\n",
    "X_lin_train_c17 = pd.concat([X_train_clusters_start[17], X_val_clusters_start[17]], axis=0)\n",
    "X_lin_train_c17 = X_lin_train_c17[['quarter_of_hour', 'hour','minute', 'day_of_week']]\n",
    "X_test_clusters_start_c17 = X_test_clusters_start[17][['quarter_of_hour', 'hour','minute', 'day_of_week']]\n",
    "\n",
    "y_lin_train_c17 = pd.concat([y_train_clusters_start[17], y_val_clusters_start[17]], axis=0)"
   ]
  },
  {
   "cell_type": "code",
   "execution_count": null,
   "metadata": {},
   "outputs": [],
   "source": [
    "# Create linear regression model\n",
    "regr_start = LinearRegression(fit_intercept=False).fit(X_lin_train_c17, y_lin_train_c17)\n",
    "\n",
    "# Use the trained model to make predictions on the testing set\n",
    "y_pred_start_c17 = regr_start.predict(X_test_clusters_start_c17)\n",
    "\n",
    "# Calculate the Mean Squared Error\n",
    "mse_start = mean_squared_error(y_test_clusters_start[17], y_pred_start_c17)\n",
    "\n",
    "# Calculate the R-squared (coefficient of determination)\n",
    "r2_start = r2_score(y_test_clusters_start[17], y_pred_start_c17)\n",
    "\n",
    "print(\"Mean Squared Error:\", mse_start)\n",
    "print(\"R-squared:\", r2_start)\n",
    "\n",
    "\n",
    "# Plot the original data points\n",
    "plt.scatter(X_test_clusters_start_c17['quarter_of_hour'], y_test_clusters_start[17], color='blue', label='Original Data')\n",
    "\n",
    "# Plot the predictions made by the model\n",
    "plt.plot(X_test_clusters_start_c17['quarter_of_hour'], y_pred_start_c17, color='red', linewidth=2, label='Linear Regression Model')\n",
    "\n",
    "# Add labels and legend\n",
    "plt.xlabel('Time (hours)')\n",
    "plt.ylabel('Pickup Count')\n",
    "plt.legend(loc='best')\n",
    "\n",
    "# Display the plot\n",
    "plt.show()"
   ]
  },
  {
   "cell_type": "code",
   "execution_count": null,
   "metadata": {},
   "outputs": [],
   "source": [
    "f_lagged=buildLaggedFeatures(dataframe, ['pickup_counts'], lag=2)\n",
    "fllen=len(f_lagged)"
   ]
  }
 ],
 "metadata": {
  "language_info": {
   "name": "python"
  }
 },
 "nbformat": 4,
 "nbformat_minor": 2
}
